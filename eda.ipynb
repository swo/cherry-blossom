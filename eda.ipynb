{
 "cells": [
  {
   "cell_type": "code",
   "execution_count": null,
   "metadata": {},
   "outputs": [],
   "source": [
    "import polars as pl\n",
    "import seaborn.objects as so"
   ]
  },
  {
   "cell_type": "code",
   "execution_count": null,
   "metadata": {},
   "outputs": [],
   "source": [
    "nps = pl.read_csv('data/nps.csv', try_parse_dates=True)\n",
    "nps_stages = pl.read_csv('data/nps_stages.csv')\n",
    "noaa = pl.read_csv('data/noaa.csv', try_parse_dates=True)"
   ]
  },
  {
   "cell_type": "code",
   "execution_count": null,
   "metadata": {},
   "outputs": [],
   "source": [
    "def day_of_year(year: pl.Series, date: pl.Series):\n",
    "    jan1 = pl.format('{}-01-01', year).str.strptime(pl.Date, '%Y-%m-%d')\n",
    "    doy = (date - jan1) / pl.duration(days=1)\n",
    "    return doy\n",
    "\n",
    "df = (\n",
    "    pl.concat([\n",
    "        noaa.select(['year', 'date']).with_columns(place=pl.lit('kyoto')),\n",
    "        nps.filter(pl.col('stage') == 'Peak Bloom').select(['year', 'date']).with_columns(place=pl.lit('dc'))\n",
    "    ])\n",
    "    .with_columns(doy = day_of_year(pl.col('year'), pl.col('date')))\n",
    ")\n",
    "\n",
    "df"
   ]
  },
  {
   "cell_type": "code",
   "execution_count": null,
   "metadata": {},
   "outputs": [],
   "source": [
    "(\n",
    "    so.Plot(df.to_pandas(), x='doy', color='place')\n",
    "    .add(so.Bars(), so.Hist())\n",
    ")"
   ]
  },
  {
   "cell_type": "code",
   "execution_count": null,
   "metadata": {},
   "outputs": [],
   "source": [
    "(\n",
    "    so.Plot(df.to_pandas(), x='year', y='doy', color='place')\n",
    "    .add(so.Dots())\n",
    ")"
   ]
  },
  {
   "cell_type": "code",
   "execution_count": null,
   "metadata": {},
   "outputs": [],
   "source": [
    "\n",
    "kyoto = (\n",
    "    noaa\n",
    "    .select(['year', 'day_of_year', 'temp_reconstructed', 'temp_observed'])\n",
    "    .melt(id_vars=['year', 'day_of_year'])\n",
    "    .with_columns(pl.col('value').cast(float))\n",
    ")\n",
    "\n",
    "(\n",
    "    so.Plot(kyoto.to_pandas(), x='day_of_year', y='value', color='variable')\n",
    "    .add(so.Dots())\n",
    ")\n"
   ]
  }
 ],
 "metadata": {
  "kernelspec": {
   "display_name": "base",
   "language": "python",
   "name": "python3"
  },
  "language_info": {
   "codemirror_mode": {
    "name": "ipython",
    "version": 3
   },
   "file_extension": ".py",
   "mimetype": "text/x-python",
   "name": "python",
   "nbconvert_exporter": "python",
   "pygments_lexer": "ipython3",
   "version": "3.8.16"
  }
 },
 "nbformat": 4,
 "nbformat_minor": 2
}
