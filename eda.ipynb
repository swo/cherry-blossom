{
 "cells": [
  {
   "cell_type": "markdown",
   "metadata": {},
   "source": [
    "# EDA: Temperature timing\n",
    "\n",
    "- Read in data\n",
    "- Group into seasons\n",
    "- Count: on what day were there are least $D$ days with average temperature $T$ or lower?\n",
    "- Compare that across seasons\n",
    "- Reasonable values look like temps of -5 to 0 C and 10-30 days\n",
    "\n",
    "Compare this to reading that cherries require something like 860 hours of <=7C. This gets a little confusing, because I started by doing *daily* average temperature, not hourly, which might matter"
   ]
  },
  {
   "cell_type": "code",
   "execution_count": null,
   "metadata": {},
   "outputs": [],
   "source": [
    "import polars as pl\n",
    "import altair as alt\n",
    "import pyarrow.dataset as ds\n",
    "import itertools\n",
    "from collections import OrderedDict"
   ]
  },
  {
   "cell_type": "code",
   "execution_count": null,
   "metadata": {},
   "outputs": [],
   "source": [
    "data = pl.scan_pyarrow_dataset(\n",
    "    ds.dataset(\"data/cdo\", format=\"parquet\", partitioning=\"hive\")\n",
    ").collect()\n",
    "\n",
    "data.sample(5)"
   ]
  },
  {
   "cell_type": "code",
   "execution_count": null,
   "metadata": {},
   "outputs": [],
   "source": [
    "def first_after_below(date, x, x0, n):\n",
    "    css = (x <= x0).cum_sum()\n",
    "\n",
    "    return pl.when(css.max() < n).then(None).otherwise(date.filter(css == n).first())\n",
    "\n",
    "\n",
    "# data to be used for analysis\n",
    "data2 = (\n",
    "    data.with_columns(\n",
    "        season=pl.when(pl.col(\"date\") < pl.date(pl.col(\"year\"), 6, 1))\n",
    "        .then(pl.col(\"year\"))\n",
    "        .otherwise(pl.col(\"year\") + 1)\n",
    "    )\n",
    "    .filter(pl.col(\"season\").is_between(2011, 2022))\n",
    "    .sort(\"date\")\n",
    "    # .group_by('season')\n",
    ")\n",
    "\n",
    "\n",
    "def f(season, x0, n):\n",
    "    return (\n",
    "        data2.filter(pl.col(\"season\") == season)\n",
    "        .select(first_after_below(pl.col(\"date\"), pl.col(\"value\"), x0, n))\n",
    "        .item()\n",
    "    )\n",
    "\n",
    "\n",
    "out = []\n",
    "\n",
    "for season in data2[\"season\"].unique().to_list():\n",
    "    for max_temp in [-5, 0]:\n",
    "        for n_days in [10, 20, 30, 40]:\n",
    "            first_day = f(season, max_temp, n_days)\n",
    "            out.append(\n",
    "                {\n",
    "                    \"season\": season,\n",
    "                    \"max_temp\": max_temp,\n",
    "                    \"n_days\": n_days,\n",
    "                    \"first_day\": first_day,\n",
    "                }\n",
    "            )\n",
    "\n",
    "results = pl.from_dicts(out)\n",
    "results"
   ]
  },
  {
   "cell_type": "code",
   "execution_count": null,
   "metadata": {},
   "outputs": [],
   "source": [
    "(\n",
    "    alt.Chart(\n",
    "        results.with_columns(\n",
    "            pl.col(\"season\").cast(str),\n",
    "            label=pl.format(\"{}-{}\", pl.col(\"max_temp\"), pl.col(\"n_days\")),\n",
    "            y=pl.col(\"first_day\").dt.ordinal_day().cast(pl.Int64),\n",
    "        )\n",
    "        .with_columns(\n",
    "            pl.when(pl.col(\"y\") > 200).then(pl.col(\"y\") - 365).otherwise(pl.col(\"y\"))\n",
    "        )\n",
    "        .to_pandas()\n",
    "    )\n",
    "    .encode(x=\"season\", y=\"y\", color=\"label\")\n",
    "    .mark_line()\n",
    ")"
   ]
  }
 ],
 "metadata": {
  "kernelspec": {
   "display_name": "base",
   "language": "python",
   "name": "python3"
  },
  "language_info": {
   "codemirror_mode": {
    "name": "ipython",
    "version": 3
   },
   "file_extension": ".py",
   "mimetype": "text/x-python",
   "name": "python",
   "nbconvert_exporter": "python",
   "pygments_lexer": "ipython3",
   "version": "3.10.12"
  }
 },
 "nbformat": 4,
 "nbformat_minor": 2
}
